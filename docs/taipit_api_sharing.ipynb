{
 "cells": [
  {
   "cell_type": "code",
   "execution_count": null,
   "outputs": [],
   "source": [
    "import requests\n",
    "from pprint import pprint"
   ],
   "metadata": {
    "collapsed": false
   }
  },
  {
   "cell_type": "code",
   "execution_count": null,
   "outputs": [],
   "source": [
    "BASE_URL = \"https://cloud.meters.taipit.ru\"\n",
    "# please provide sharing id\n",
    "sharing_id = \"\""
   ],
   "metadata": {
    "collapsed": false
   }
  },
  {
   "cell_type": "code",
   "execution_count": null,
   "outputs": [],
   "source": [
    "s = requests.Session()\n",
    "\n",
    "# get meter id and cookies\n",
    "url = f\"{BASE_URL}/meter/link/{sharing_id}\"\n",
    "r = s.get(url, allow_redirects=False)\n",
    "location = r.headers['Location']\n",
    "meter_id = location.split(\"=\",1)[1]\n",
    "cookies = r.cookies\n",
    "print(f\"Meter ID: {meter_id}\")"
   ],
   "metadata": {
    "collapsed": false
   }
  },
  {
   "cell_type": "code",
   "execution_count": null,
   "outputs": [],
   "source": [
    "# request data for meter\n",
    "url = f\"{BASE_URL}/bmd/all\"\n",
    "payload = {\"id\":meter_id}\n",
    "r = s.get(url, params=payload, cookies=cookies)\n",
    "data = r.json()\n",
    "# raw data\n",
    "print(\"Raw output\")\n",
    "pprint(data)"
   ],
   "metadata": {
    "collapsed": false
   }
  },
  {
   "cell_type": "code",
   "execution_count": null,
   "outputs": [],
   "source": [
    "# parsed data\n",
    "print(f\"Sharing ID: {sharing_id}\")\n",
    "print(f\"Meter Serial Number: {data['meter']['serialNumber']}\")\n",
    "print(f\"Meter Name: {data['meter']['name']}\")\n",
    "print(f\"Meter ID: {data['meter']['id']}\")\n",
    "print(f\"Controller ID: {data['controller']['id']}\")\n",
    "print(f\"Controller Signal: {data['controller']['signal']}\")\n"
   ],
   "metadata": {
    "collapsed": false
   }
  },
  {
   "cell_type": "code",
   "execution_count": null,
   "outputs": [],
   "source": [],
   "metadata": {
    "collapsed": false
   }
  }
 ],
 "metadata": {
  "kernelspec": {
   "display_name": "Python 3",
   "language": "python",
   "name": "python3"
  },
  "language_info": {
   "codemirror_mode": {
    "name": "ipython",
    "version": 2
   },
   "file_extension": ".py",
   "mimetype": "text/x-python",
   "name": "python",
   "nbconvert_exporter": "python",
   "pygments_lexer": "ipython2",
   "version": "2.7.6"
  }
 },
 "nbformat": 4,
 "nbformat_minor": 0
}
